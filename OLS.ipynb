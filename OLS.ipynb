{
 "cells": [
  {
   "cell_type": "markdown",
   "metadata": {
    "slideshow": {
     "slide_type": "slide"
    }
   },
   "source": [
    "# Assignment 2\n",
    "\n",
    "#### Full Marks for each question :\n",
    "\n",
    " 1. 2\n",
    " 2. 6\n",
    " 3. 3\n",
    " 4. 4\n",
    " 5. 10\n",
    " 6. 5\n",
    " 7. 5\n",
    " 8. 5\n",
    " 9. 5\n",
    " 10. 5"
   ]
  },
  {
   "cell_type": "markdown",
   "metadata": {
    "nbpresent": {
     "id": "311877bb-4a9b-4699-9365-a0ad440d0615"
    },
    "slideshow": {
     "slide_type": "slide"
    }
   },
   "source": [
    "### Linear Regression Assignment\n",
    "\n",
    "#### Dataset : Diabaetes data from python sklearn package\n",
    "\n",
    "##### Description\n",
    "\n",
    "The diabetes dataset consists of 10 baseline variables, age, sex, body mass index, average blood pressure, and six blood serum measurements were obtained for each of n = 442 diabetes patients, as well as the response of interest, a quantitative measure of disease progression one year after baseline.\n",
    "\n",
    "<br> Dependent Variable is **target**\n",
    "\n",
    "**Note** : *All the variables in the dataset are already standardised in the range (-1,1). The categorical variable is also standardised ('sex'). We will ignore this variable from our analysis.* "
   ]
  },
  {
   "cell_type": "code",
   "execution_count": 1,
   "metadata": {
    "slideshow": {
     "slide_type": "slide"
    }
   },
   "outputs": [],
   "source": [
    "from sklearn import datasets\n",
    "import pandas as pd\n",
    "import numpy as np\n",
    "import matplotlib.pyplot as plt\n",
    "\n",
    "dt = datasets.load_diabetes()\n",
    "data = pd.DataFrame(data= np.c_[dt['data'], dt['target']],columns= dt['feature_names'] + ['target'] )\n",
    "data = data.drop(columns = ['sex'])"
   ]
  },
  {
   "cell_type": "code",
   "execution_count": 2,
   "metadata": {},
   "outputs": [],
   "source": [
    "data.to_csv('diabetes_data.csv')"
   ]
  },
  {
   "cell_type": "code",
   "execution_count": 3,
   "metadata": {},
   "outputs": [
    {
     "data": {
      "text/html": [
       "<div>\n",
       "<style scoped>\n",
       "    .dataframe tbody tr th:only-of-type {\n",
       "        vertical-align: middle;\n",
       "    }\n",
       "\n",
       "    .dataframe tbody tr th {\n",
       "        vertical-align: top;\n",
       "    }\n",
       "\n",
       "    .dataframe thead th {\n",
       "        text-align: right;\n",
       "    }\n",
       "</style>\n",
       "<table border=\"1\" class=\"dataframe\">\n",
       "  <thead>\n",
       "    <tr style=\"text-align: right;\">\n",
       "      <th></th>\n",
       "      <th>age</th>\n",
       "      <th>bmi</th>\n",
       "      <th>bp</th>\n",
       "      <th>s1</th>\n",
       "      <th>s2</th>\n",
       "      <th>s3</th>\n",
       "      <th>s4</th>\n",
       "      <th>s5</th>\n",
       "      <th>s6</th>\n",
       "      <th>target</th>\n",
       "    </tr>\n",
       "  </thead>\n",
       "  <tbody>\n",
       "    <tr>\n",
       "      <th>0</th>\n",
       "      <td>0.038076</td>\n",
       "      <td>0.061696</td>\n",
       "      <td>0.021872</td>\n",
       "      <td>-0.044223</td>\n",
       "      <td>-0.034821</td>\n",
       "      <td>-0.043401</td>\n",
       "      <td>-0.002592</td>\n",
       "      <td>0.019908</td>\n",
       "      <td>-0.017646</td>\n",
       "      <td>151.0</td>\n",
       "    </tr>\n",
       "    <tr>\n",
       "      <th>1</th>\n",
       "      <td>-0.001882</td>\n",
       "      <td>-0.051474</td>\n",
       "      <td>-0.026328</td>\n",
       "      <td>-0.008449</td>\n",
       "      <td>-0.019163</td>\n",
       "      <td>0.074412</td>\n",
       "      <td>-0.039493</td>\n",
       "      <td>-0.068330</td>\n",
       "      <td>-0.092204</td>\n",
       "      <td>75.0</td>\n",
       "    </tr>\n",
       "    <tr>\n",
       "      <th>2</th>\n",
       "      <td>0.085299</td>\n",
       "      <td>0.044451</td>\n",
       "      <td>-0.005671</td>\n",
       "      <td>-0.045599</td>\n",
       "      <td>-0.034194</td>\n",
       "      <td>-0.032356</td>\n",
       "      <td>-0.002592</td>\n",
       "      <td>0.002864</td>\n",
       "      <td>-0.025930</td>\n",
       "      <td>141.0</td>\n",
       "    </tr>\n",
       "    <tr>\n",
       "      <th>3</th>\n",
       "      <td>-0.089063</td>\n",
       "      <td>-0.011595</td>\n",
       "      <td>-0.036656</td>\n",
       "      <td>0.012191</td>\n",
       "      <td>0.024991</td>\n",
       "      <td>-0.036038</td>\n",
       "      <td>0.034309</td>\n",
       "      <td>0.022692</td>\n",
       "      <td>-0.009362</td>\n",
       "      <td>206.0</td>\n",
       "    </tr>\n",
       "    <tr>\n",
       "      <th>4</th>\n",
       "      <td>0.005383</td>\n",
       "      <td>-0.036385</td>\n",
       "      <td>0.021872</td>\n",
       "      <td>0.003935</td>\n",
       "      <td>0.015596</td>\n",
       "      <td>0.008142</td>\n",
       "      <td>-0.002592</td>\n",
       "      <td>-0.031991</td>\n",
       "      <td>-0.046641</td>\n",
       "      <td>135.0</td>\n",
       "    </tr>\n",
       "  </tbody>\n",
       "</table>\n",
       "</div>"
      ],
      "text/plain": [
       "        age       bmi        bp        s1        s2        s3        s4  \\\n",
       "0  0.038076  0.061696  0.021872 -0.044223 -0.034821 -0.043401 -0.002592   \n",
       "1 -0.001882 -0.051474 -0.026328 -0.008449 -0.019163  0.074412 -0.039493   \n",
       "2  0.085299  0.044451 -0.005671 -0.045599 -0.034194 -0.032356 -0.002592   \n",
       "3 -0.089063 -0.011595 -0.036656  0.012191  0.024991 -0.036038  0.034309   \n",
       "4  0.005383 -0.036385  0.021872  0.003935  0.015596  0.008142 -0.002592   \n",
       "\n",
       "         s5        s6  target  \n",
       "0  0.019908 -0.017646   151.0  \n",
       "1 -0.068330 -0.092204    75.0  \n",
       "2  0.002864 -0.025930   141.0  \n",
       "3  0.022692 -0.009362   206.0  \n",
       "4 -0.031991 -0.046641   135.0  "
      ]
     },
     "execution_count": 3,
     "metadata": {},
     "output_type": "execute_result"
    }
   ],
   "source": [
    "data.head()"
   ]
  },
  {
   "cell_type": "markdown",
   "metadata": {
    "slideshow": {
     "slide_type": "slide"
    }
   },
   "source": [
    "#### Q1 : Check No. of missing values in each of the variables and descriptive statistics"
   ]
  },
  {
   "cell_type": "code",
   "execution_count": 4,
   "metadata": {
    "nbpresent": {
     "id": "5da018cd-204d-4717-a37f-0b6bce484eb3"
    },
    "slideshow": {
     "slide_type": "slide"
    }
   },
   "outputs": [
    {
     "name": "stdout",
     "output_type": "stream",
     "text": [
      "age       0\n",
      "bmi       0\n",
      "bp        0\n",
      "s1        0\n",
      "s2        0\n",
      "s3        0\n",
      "s4        0\n",
      "s5        0\n",
      "s6        0\n",
      "target    0\n",
      "dtype: int64\n",
      "                age           bmi            bp            s1            s2  \\\n",
      "count  4.420000e+02  4.420000e+02  4.420000e+02  4.420000e+02  4.420000e+02   \n",
      "mean  -3.634285e-16 -8.045349e-16  1.281655e-16 -8.835316e-17  1.327024e-16   \n",
      "std    4.761905e-02  4.761905e-02  4.761905e-02  4.761905e-02  4.761905e-02   \n",
      "min   -1.072256e-01 -9.027530e-02 -1.123996e-01 -1.267807e-01 -1.156131e-01   \n",
      "25%   -3.729927e-02 -3.422907e-02 -3.665645e-02 -3.424784e-02 -3.035840e-02   \n",
      "50%    5.383060e-03 -7.283766e-03 -5.670611e-03 -4.320866e-03 -3.819065e-03   \n",
      "75%    3.807591e-02  3.124802e-02  3.564384e-02  2.835801e-02  2.984439e-02   \n",
      "max    1.107267e-01  1.705552e-01  1.320442e-01  1.539137e-01  1.987880e-01   \n",
      "\n",
      "                 s3            s4            s5            s6      target  \n",
      "count  4.420000e+02  4.420000e+02  4.420000e+02  4.420000e+02  442.000000  \n",
      "mean  -4.574646e-16  3.777301e-16 -3.830854e-16 -3.412882e-16  152.133484  \n",
      "std    4.761905e-02  4.761905e-02  4.761905e-02  4.761905e-02   77.093005  \n",
      "min   -1.023071e-01 -7.639450e-02 -1.260974e-01 -1.377672e-01   25.000000  \n",
      "25%   -3.511716e-02 -3.949338e-02 -3.324879e-02 -3.317903e-02   87.000000  \n",
      "50%   -6.584468e-03 -2.592262e-03 -1.947634e-03 -1.077698e-03  140.500000  \n",
      "75%    2.931150e-02  3.430886e-02  3.243323e-02  2.791705e-02  211.500000  \n",
      "max    1.811791e-01  1.852344e-01  1.335990e-01  1.356118e-01  346.000000  \n"
     ]
    }
   ],
   "source": [
    "# Missing value check\n",
    "\n",
    "print(data.isna().sum())\n",
    "\n",
    "# descriptive stats\n",
    "\n",
    "print(data.describe())\n"
   ]
  },
  {
   "cell_type": "markdown",
   "metadata": {
    "slideshow": {
     "slide_type": "slide"
    }
   },
   "source": [
    "#### Q2a : Check the count of outliers in each of the independent variables using mean +- sigma method\n",
    "#### Q2b : Replace the lower outliers by the lower limit (mean - 2sigma) and upper outliers by upper limit (mean + 2sigma)\n",
    "#### Q2c : Plot scatter plot of the variable with high number of outliers (both original and imputed)\n",
    "\n",
    "##### You can refer the functions used in the course materials"
   ]
  },
  {
   "cell_type": "code",
   "execution_count": 5,
   "metadata": {
    "slideshow": {
     "slide_type": "slide"
    }
   },
   "outputs": [
    {
     "name": "stdout",
     "output_type": "stream",
     "text": [
      "age       16\n",
      "bmi       15\n",
      "bp        19\n",
      "s1        20\n",
      "s2        20\n",
      "s3        18\n",
      "s4        19\n",
      "s5        20\n",
      "s6        21\n",
      "target    11\n",
      "dtype: int64\n"
     ]
    },
    {
     "data": {
      "text/html": [
       "<div>\n",
       "<style scoped>\n",
       "    .dataframe tbody tr th:only-of-type {\n",
       "        vertical-align: middle;\n",
       "    }\n",
       "\n",
       "    .dataframe tbody tr th {\n",
       "        vertical-align: top;\n",
       "    }\n",
       "\n",
       "    .dataframe thead th {\n",
       "        text-align: right;\n",
       "    }\n",
       "</style>\n",
       "<table border=\"1\" class=\"dataframe\">\n",
       "  <thead>\n",
       "    <tr style=\"text-align: right;\">\n",
       "      <th></th>\n",
       "      <th>age</th>\n",
       "      <th>bmi</th>\n",
       "      <th>bp</th>\n",
       "      <th>s1</th>\n",
       "      <th>s2</th>\n",
       "      <th>s3</th>\n",
       "      <th>s4</th>\n",
       "      <th>s5</th>\n",
       "      <th>s6</th>\n",
       "      <th>target</th>\n",
       "    </tr>\n",
       "  </thead>\n",
       "  <tbody>\n",
       "    <tr>\n",
       "      <th>0</th>\n",
       "      <td>0.038076</td>\n",
       "      <td>0.061696</td>\n",
       "      <td>0.021872</td>\n",
       "      <td>-0.044223</td>\n",
       "      <td>-0.034821</td>\n",
       "      <td>-0.043401</td>\n",
       "      <td>-0.002592</td>\n",
       "      <td>0.019908</td>\n",
       "      <td>-0.017646</td>\n",
       "      <td>151.0</td>\n",
       "    </tr>\n",
       "    <tr>\n",
       "      <th>1</th>\n",
       "      <td>-0.001882</td>\n",
       "      <td>-0.051474</td>\n",
       "      <td>-0.026328</td>\n",
       "      <td>-0.008449</td>\n",
       "      <td>-0.019163</td>\n",
       "      <td>0.074412</td>\n",
       "      <td>-0.039493</td>\n",
       "      <td>-0.068330</td>\n",
       "      <td>-0.092204</td>\n",
       "      <td>75.0</td>\n",
       "    </tr>\n",
       "    <tr>\n",
       "      <th>2</th>\n",
       "      <td>0.085299</td>\n",
       "      <td>0.044451</td>\n",
       "      <td>-0.005671</td>\n",
       "      <td>-0.045599</td>\n",
       "      <td>-0.034194</td>\n",
       "      <td>-0.032356</td>\n",
       "      <td>-0.002592</td>\n",
       "      <td>0.002864</td>\n",
       "      <td>-0.025930</td>\n",
       "      <td>141.0</td>\n",
       "    </tr>\n",
       "    <tr>\n",
       "      <th>3</th>\n",
       "      <td>-0.089063</td>\n",
       "      <td>-0.011595</td>\n",
       "      <td>-0.036656</td>\n",
       "      <td>0.012191</td>\n",
       "      <td>0.024991</td>\n",
       "      <td>-0.036038</td>\n",
       "      <td>0.034309</td>\n",
       "      <td>0.022692</td>\n",
       "      <td>-0.009362</td>\n",
       "      <td>206.0</td>\n",
       "    </tr>\n",
       "    <tr>\n",
       "      <th>4</th>\n",
       "      <td>0.005383</td>\n",
       "      <td>-0.036385</td>\n",
       "      <td>0.021872</td>\n",
       "      <td>0.003935</td>\n",
       "      <td>0.015596</td>\n",
       "      <td>0.008142</td>\n",
       "      <td>-0.002592</td>\n",
       "      <td>-0.031991</td>\n",
       "      <td>-0.046641</td>\n",
       "      <td>135.0</td>\n",
       "    </tr>\n",
       "    <tr>\n",
       "      <th>...</th>\n",
       "      <td>...</td>\n",
       "      <td>...</td>\n",
       "      <td>...</td>\n",
       "      <td>...</td>\n",
       "      <td>...</td>\n",
       "      <td>...</td>\n",
       "      <td>...</td>\n",
       "      <td>...</td>\n",
       "      <td>...</td>\n",
       "      <td>...</td>\n",
       "    </tr>\n",
       "    <tr>\n",
       "      <th>437</th>\n",
       "      <td>0.041708</td>\n",
       "      <td>0.019662</td>\n",
       "      <td>0.059744</td>\n",
       "      <td>-0.005697</td>\n",
       "      <td>-0.002566</td>\n",
       "      <td>-0.028674</td>\n",
       "      <td>-0.002592</td>\n",
       "      <td>0.031193</td>\n",
       "      <td>0.007207</td>\n",
       "      <td>178.0</td>\n",
       "    </tr>\n",
       "    <tr>\n",
       "      <th>438</th>\n",
       "      <td>-0.005515</td>\n",
       "      <td>-0.015906</td>\n",
       "      <td>-0.067642</td>\n",
       "      <td>0.049341</td>\n",
       "      <td>0.079165</td>\n",
       "      <td>-0.028674</td>\n",
       "      <td>0.034309</td>\n",
       "      <td>-0.018118</td>\n",
       "      <td>0.044485</td>\n",
       "      <td>104.0</td>\n",
       "    </tr>\n",
       "    <tr>\n",
       "      <th>439</th>\n",
       "      <td>0.041708</td>\n",
       "      <td>-0.015906</td>\n",
       "      <td>0.017282</td>\n",
       "      <td>-0.037344</td>\n",
       "      <td>-0.013840</td>\n",
       "      <td>-0.024993</td>\n",
       "      <td>-0.011080</td>\n",
       "      <td>-0.046879</td>\n",
       "      <td>0.015491</td>\n",
       "      <td>132.0</td>\n",
       "    </tr>\n",
       "    <tr>\n",
       "      <th>440</th>\n",
       "      <td>-0.045472</td>\n",
       "      <td>0.039062</td>\n",
       "      <td>0.001215</td>\n",
       "      <td>0.016318</td>\n",
       "      <td>0.015283</td>\n",
       "      <td>-0.028674</td>\n",
       "      <td>0.026560</td>\n",
       "      <td>0.044528</td>\n",
       "      <td>-0.025930</td>\n",
       "      <td>220.0</td>\n",
       "    </tr>\n",
       "    <tr>\n",
       "      <th>441</th>\n",
       "      <td>-0.045472</td>\n",
       "      <td>-0.073030</td>\n",
       "      <td>-0.081414</td>\n",
       "      <td>0.083740</td>\n",
       "      <td>0.027809</td>\n",
       "      <td>0.095130</td>\n",
       "      <td>-0.039493</td>\n",
       "      <td>-0.004220</td>\n",
       "      <td>0.003064</td>\n",
       "      <td>57.0</td>\n",
       "    </tr>\n",
       "  </tbody>\n",
       "</table>\n",
       "<p>442 rows × 10 columns</p>\n",
       "</div>"
      ],
      "text/plain": [
       "          age       bmi        bp        s1        s2        s3        s4  \\\n",
       "0    0.038076  0.061696  0.021872 -0.044223 -0.034821 -0.043401 -0.002592   \n",
       "1   -0.001882 -0.051474 -0.026328 -0.008449 -0.019163  0.074412 -0.039493   \n",
       "2    0.085299  0.044451 -0.005671 -0.045599 -0.034194 -0.032356 -0.002592   \n",
       "3   -0.089063 -0.011595 -0.036656  0.012191  0.024991 -0.036038  0.034309   \n",
       "4    0.005383 -0.036385  0.021872  0.003935  0.015596  0.008142 -0.002592   \n",
       "..        ...       ...       ...       ...       ...       ...       ...   \n",
       "437  0.041708  0.019662  0.059744 -0.005697 -0.002566 -0.028674 -0.002592   \n",
       "438 -0.005515 -0.015906 -0.067642  0.049341  0.079165 -0.028674  0.034309   \n",
       "439  0.041708 -0.015906  0.017282 -0.037344 -0.013840 -0.024993 -0.011080   \n",
       "440 -0.045472  0.039062  0.001215  0.016318  0.015283 -0.028674  0.026560   \n",
       "441 -0.045472 -0.073030 -0.081414  0.083740  0.027809  0.095130 -0.039493   \n",
       "\n",
       "           s5        s6  target  \n",
       "0    0.019908 -0.017646   151.0  \n",
       "1   -0.068330 -0.092204    75.0  \n",
       "2    0.002864 -0.025930   141.0  \n",
       "3    0.022692 -0.009362   206.0  \n",
       "4   -0.031991 -0.046641   135.0  \n",
       "..        ...       ...     ...  \n",
       "437  0.031193  0.007207   178.0  \n",
       "438 -0.018118  0.044485   104.0  \n",
       "439 -0.046879  0.015491   132.0  \n",
       "440  0.044528 -0.025930   220.0  \n",
       "441 -0.004220  0.003064    57.0  \n",
       "\n",
       "[442 rows x 10 columns]"
      ]
     },
     "execution_count": 5,
     "metadata": {},
     "output_type": "execute_result"
    }
   ],
   "source": [
    "# mean +- 2sigma\n",
    "# function to calculate outlier of a variable\n",
    "def out1(x):\n",
    "    mu = np.average(x)\n",
    "    sigma = np.std(x)\n",
    "    LL = mu - 2*sigma # Lower limit \n",
    "    UL = mu + 2*sigma # Upper limit\n",
    "    count=((x<LL)|(x>UL))\n",
    "    return count\n",
    "\n",
    "# check #outliers in each variable\n",
    "print(data.apply(out1).apply(sum))\n",
    "\n",
    "# Function to Replace outlier with LL / UL\n",
    "\n",
    "def out_impute(x):\n",
    "    mu = np.average(x)\n",
    "    sigma = np.std(x)\n",
    "    LL = mu - 2*sigma # Lower limit \n",
    "    UL = mu + 2*sigma # Upper limit\n",
    "    x = np.where((x<LL),LL,x)\n",
    "    x = np.where((x>UL),UL,x)\n",
    "    return(x)\n",
    "\n",
    "data1 = data.apply(out_impute) # Create new data with inputed values\n",
    "data1\n"
   ]
  },
  {
   "cell_type": "code",
   "execution_count": 6,
   "metadata": {},
   "outputs": [
    {
     "data": {
      "text/plain": [
       "<matplotlib.legend.Legend at 0x7fd9738c7430>"
      ]
     },
     "execution_count": 6,
     "metadata": {},
     "output_type": "execute_result"
    },
    {
     "data": {
      "image/png": "[encoded data removed]",
      "text/plain": [
       "<Figure size 360x360 with 1 Axes>"
      ]
     },
     "metadata": {
      "needs_background": "light"
     },
     "output_type": "display_data"
    }
   ],
   "source": [
    "# library\n",
    "import seaborn as sns\n",
    "\n",
    "# Create a new data for the plot\n",
    "temp_data = pd.concat([data.s6, pd.DataFrame(out1(data.s6))],axis=1)\n",
    "temp_data.columns = ['s6', 'out']\n",
    "temp_data['index'] = temp_data.index\n",
    "\n",
    "# Use the 'hue' argument to provide a factor variable\n",
    "sns.lmplot( x='index', y='s6', data=temp_data, fit_reg=False, hue='out', legend=False)\n",
    " \n",
    "# Move the legend to an empty part of the plot\n",
    "plt.legend(loc='lower right') \n",
    "\n"
   ]
  },
  {
   "cell_type": "code",
   "execution_count": 7,
   "metadata": {
    "slideshow": {
     "slide_type": "slide"
    }
   },
   "outputs": [
    {
     "data": {
      "text/plain": [
       "<matplotlib.legend.Legend at 0x7fd97394db20>"
      ]
     },
     "execution_count": 7,
     "metadata": {},
     "output_type": "execute_result"
    },
    {
     "data": {
      "image/png": "[encoded data removed]",
      "text/plain": [
       "<Figure size 360x360 with 1 Axes>"
      ]
     },
     "metadata": {
      "needs_background": "light"
     },
     "output_type": "display_data"
    },
    {
     "data": {
      "image/png": "[encoded data removed]",
      "text/plain": [
       "<Figure size 360x360 with 1 Axes>"
      ]
     },
     "metadata": {
      "needs_background": "light"
     },
     "output_type": "display_data"
    }
   ],
   "source": [
    "# library\n",
    "import seaborn as sns\n",
    "\n",
    "# Create a new data for the plot\n",
    "temp_data = pd.concat([data.s6, pd.DataFrame(out1(data.s6))],axis=1)\n",
    "temp_data.columns = ['s6_original', 'out']\n",
    "temp_data['index'] = temp_data.index\n",
    "\n",
    "# Use the 'hue' argument to provide a factor variable\n",
    "sns.lmplot( x='index', y='s6_original', data=temp_data, fit_reg=False, hue='out', legend=False)\n",
    " \n",
    "# Move the legend to an empty part of the plot\n",
    "plt.legend(loc='lower right') \n",
    "#sns.plt.show()\n",
    "\n",
    "\n",
    "# Create the same plot using treated values\n",
    "\n",
    "# Create a new data for the plot\n",
    "temp_data = pd.concat([data1.s6, pd.DataFrame(out1(data1.s6))],axis=1)\n",
    "temp_data.columns = ['s6_treated', 'out']\n",
    "temp_data['index'] = temp_data.index\n",
    "\n",
    "# Use the 'hue' argument to provide a factor variable\n",
    "sns.lmplot( x='index', y='s6_treated', data=temp_data, fit_reg=False, hue='out', legend=False)\n",
    " \n",
    "# Move the legend to an empty part of the plot\n",
    "plt.legend(loc='lower right') \n",
    "#sns.plt.show()\n",
    "\n"
   ]
  },
  {
   "cell_type": "markdown",
   "metadata": {
    "slideshow": {
     "slide_type": "slide"
    }
   },
   "source": [
    "#### Q3 : Create a Correlation matrix and exclude variables with very low correlation with dependent variable\n",
    "\n",
    "*Use ``DataFrame.corr()`` function *"
   ]
  },
  {
   "cell_type": "code",
   "execution_count": 8,
   "metadata": {
    "slideshow": {
     "slide_type": "slide"
    }
   },
   "outputs": [
    {
     "data": {
      "text/html": [
       "<div>\n",
       "<style scoped>\n",
       "    .dataframe tbody tr th:only-of-type {\n",
       "        vertical-align: middle;\n",
       "    }\n",
       "\n",
       "    .dataframe tbody tr th {\n",
       "        vertical-align: top;\n",
       "    }\n",
       "\n",
       "    .dataframe thead th {\n",
       "        text-align: right;\n",
       "    }\n",
       "</style>\n",
       "<table border=\"1\" class=\"dataframe\">\n",
       "  <thead>\n",
       "    <tr style=\"text-align: right;\">\n",
       "      <th></th>\n",
       "      <th>age</th>\n",
       "      <th>bmi</th>\n",
       "      <th>bp</th>\n",
       "      <th>s1</th>\n",
       "      <th>s2</th>\n",
       "      <th>s3</th>\n",
       "      <th>s4</th>\n",
       "      <th>s5</th>\n",
       "      <th>s6</th>\n",
       "      <th>target</th>\n",
       "    </tr>\n",
       "  </thead>\n",
       "  <tbody>\n",
       "    <tr>\n",
       "      <th>age</th>\n",
       "      <td>1.000000</td>\n",
       "      <td>0.196167</td>\n",
       "      <td>0.339878</td>\n",
       "      <td>0.271870</td>\n",
       "      <td>0.230220</td>\n",
       "      <td>-0.087073</td>\n",
       "      <td>0.212263</td>\n",
       "      <td>0.274635</td>\n",
       "      <td>0.304443</td>\n",
       "      <td>0.188234</td>\n",
       "    </tr>\n",
       "    <tr>\n",
       "      <th>bmi</th>\n",
       "      <td>0.196167</td>\n",
       "      <td>1.000000</td>\n",
       "      <td>0.406267</td>\n",
       "      <td>0.264540</td>\n",
       "      <td>0.275848</td>\n",
       "      <td>-0.370106</td>\n",
       "      <td>0.424723</td>\n",
       "      <td>0.467665</td>\n",
       "      <td>0.399081</td>\n",
       "      <td>0.578900</td>\n",
       "    </tr>\n",
       "    <tr>\n",
       "      <th>bp</th>\n",
       "      <td>0.339878</td>\n",
       "      <td>0.406267</td>\n",
       "      <td>1.000000</td>\n",
       "      <td>0.254184</td>\n",
       "      <td>0.192813</td>\n",
       "      <td>-0.189005</td>\n",
       "      <td>0.266766</td>\n",
       "      <td>0.399356</td>\n",
       "      <td>0.390097</td>\n",
       "      <td>0.443979</td>\n",
       "    </tr>\n",
       "    <tr>\n",
       "      <th>s1</th>\n",
       "      <td>0.271870</td>\n",
       "      <td>0.264540</td>\n",
       "      <td>0.254184</td>\n",
       "      <td>1.000000</td>\n",
       "      <td>0.889449</td>\n",
       "      <td>0.044179</td>\n",
       "      <td>0.536265</td>\n",
       "      <td>0.524781</td>\n",
       "      <td>0.331268</td>\n",
       "      <td>0.219378</td>\n",
       "    </tr>\n",
       "    <tr>\n",
       "      <th>s2</th>\n",
       "      <td>0.230220</td>\n",
       "      <td>0.275848</td>\n",
       "      <td>0.192813</td>\n",
       "      <td>0.889449</td>\n",
       "      <td>1.000000</td>\n",
       "      <td>-0.193750</td>\n",
       "      <td>0.660886</td>\n",
       "      <td>0.339720</td>\n",
       "      <td>0.293324</td>\n",
       "      <td>0.183142</td>\n",
       "    </tr>\n",
       "    <tr>\n",
       "      <th>s3</th>\n",
       "      <td>-0.087073</td>\n",
       "      <td>-0.370106</td>\n",
       "      <td>-0.189005</td>\n",
       "      <td>0.044179</td>\n",
       "      <td>-0.193750</td>\n",
       "      <td>1.000000</td>\n",
       "      <td>-0.767563</td>\n",
       "      <td>-0.419812</td>\n",
       "      <td>-0.286774</td>\n",
       "      <td>-0.401202</td>\n",
       "    </tr>\n",
       "    <tr>\n",
       "      <th>s4</th>\n",
       "      <td>0.212263</td>\n",
       "      <td>0.424723</td>\n",
       "      <td>0.266766</td>\n",
       "      <td>0.536265</td>\n",
       "      <td>0.660886</td>\n",
       "      <td>-0.767563</td>\n",
       "      <td>1.000000</td>\n",
       "      <td>0.625965</td>\n",
       "      <td>0.411602</td>\n",
       "      <td>0.436015</td>\n",
       "    </tr>\n",
       "    <tr>\n",
       "      <th>s5</th>\n",
       "      <td>0.274635</td>\n",
       "      <td>0.467665</td>\n",
       "      <td>0.399356</td>\n",
       "      <td>0.524781</td>\n",
       "      <td>0.339720</td>\n",
       "      <td>-0.419812</td>\n",
       "      <td>0.625965</td>\n",
       "      <td>1.000000</td>\n",
       "      <td>0.464016</td>\n",
       "      <td>0.578896</td>\n",
       "    </tr>\n",
       "    <tr>\n",
       "      <th>s6</th>\n",
       "      <td>0.304443</td>\n",
       "      <td>0.399081</td>\n",
       "      <td>0.390097</td>\n",
       "      <td>0.331268</td>\n",
       "      <td>0.293324</td>\n",
       "      <td>-0.286774</td>\n",
       "      <td>0.411602</td>\n",
       "      <td>0.464016</td>\n",
       "      <td>1.000000</td>\n",
       "      <td>0.376113</td>\n",
       "    </tr>\n",
       "    <tr>\n",
       "      <th>target</th>\n",
       "      <td>0.188234</td>\n",
       "      <td>0.578900</td>\n",
       "      <td>0.443979</td>\n",
       "      <td>0.219378</td>\n",
       "      <td>0.183142</td>\n",
       "      <td>-0.401202</td>\n",
       "      <td>0.436015</td>\n",
       "      <td>0.578896</td>\n",
       "      <td>0.376113</td>\n",
       "      <td>1.000000</td>\n",
       "    </tr>\n",
       "  </tbody>\n",
       "</table>\n",
       "</div>"
      ],
      "text/plain": [
       "             age       bmi        bp        s1        s2        s3        s4  \\\n",
       "age     1.000000  0.196167  0.339878  0.271870  0.230220 -0.087073  0.212263   \n",
       "bmi     0.196167  1.000000  0.406267  0.264540  0.275848 -0.370106  0.424723   \n",
       "bp      0.339878  0.406267  1.000000  0.254184  0.192813 -0.189005  0.266766   \n",
       "s1      0.271870  0.264540  0.254184  1.000000  0.889449  0.044179  0.536265   \n",
       "s2      0.230220  0.275848  0.192813  0.889449  1.000000 -0.193750  0.660886   \n",
       "s3     -0.087073 -0.370106 -0.189005  0.044179 -0.193750  1.000000 -0.767563   \n",
       "s4      0.212263  0.424723  0.266766  0.536265  0.660886 -0.767563  1.000000   \n",
       "s5      0.274635  0.467665  0.399356  0.524781  0.339720 -0.419812  0.625965   \n",
       "s6      0.304443  0.399081  0.390097  0.331268  0.293324 -0.286774  0.411602   \n",
       "target  0.188234  0.578900  0.443979  0.219378  0.183142 -0.401202  0.436015   \n",
       "\n",
       "              s5        s6    target  \n",
       "age     0.274635  0.304443  0.188234  \n",
       "bmi     0.467665  0.399081  0.578900  \n",
       "bp      0.399356  0.390097  0.443979  \n",
       "s1      0.524781  0.331268  0.219378  \n",
       "s2      0.339720  0.293324  0.183142  \n",
       "s3     -0.419812 -0.286774 -0.401202  \n",
       "s4      0.625965  0.411602  0.436015  \n",
       "s5      1.000000  0.464016  0.578896  \n",
       "s6      0.464016  1.000000  0.376113  \n",
       "target  0.578896  0.376113  1.000000  "
      ]
     },
     "execution_count": 8,
     "metadata": {},
     "output_type": "execute_result"
    }
   ],
   "source": [
    "# Correlation\n",
    "data1.corr()"
   ]
  },
  {
   "cell_type": "code",
   "execution_count": 9,
   "metadata": {
    "slideshow": {
     "slide_type": "slide"
    }
   },
   "outputs": [],
   "source": [
    "# We can remove age and s2 which has low correlation with target variable\n",
    "data1 = data1.drop(columns = ['age','s2'], axis = 1)"
   ]
  },
  {
   "cell_type": "markdown",
   "metadata": {
    "slideshow": {
     "slide_type": "slide"
    }
   },
   "source": [
    "#### Q4 : Check whether the target variable is normally distributed. If not, apply appropriate transformation\n",
    "\n",
    "Refer to the code in the course material and check using Histogram plot"
   ]
  },
  {
   "cell_type": "code",
   "execution_count": 10,
   "metadata": {
    "slideshow": {
     "slide_type": "slide"
    }
   },
   "outputs": [
    {
     "data": {
      "image/png": "[encoded data removed]",
      "text/plain": [
       "<Figure size 576x288 with 2 Axes>"
      ]
     },
     "metadata": {
      "needs_background": "light"
     },
     "output_type": "display_data"
    }
   ],
   "source": [
    "### Normal Distribution check\n",
    "# Histogram\n",
    "import warnings\n",
    "warnings.filterwarnings('ignore')\n",
    "plt.figure(figsize=(8,4))\n",
    "ax=plt.subplot(1,2,1)\n",
    "sns.distplot(data1['target'],hist=False)\n",
    "ax=plt.subplot(1,2,2)\n",
    "data1['target'].hist()\n",
    "plt.show()"
   ]
  },
  {
   "cell_type": "code",
   "execution_count": 11,
   "metadata": {
    "slideshow": {
     "slide_type": "slide"
    }
   },
   "outputs": [
    {
     "name": "stdout",
     "output_type": "stream",
     "text": [
      "0.33843609196124497\n"
     ]
    }
   ],
   "source": [
    "# Box-cox transformation\n",
    "import scipy\n",
    "from scipy import stats\n",
    "\n",
    "bx = stats.boxcox(data1['target']) #Box Cox transformation\n",
    "\n",
    "# print the lambda value\n",
    "print(bx[1])\n",
    "#store the transformed value in a new variable\n",
    "YT = bx[0]"
   ]
  },
  {
   "cell_type": "code",
   "execution_count": 12,
   "metadata": {
    "slideshow": {
     "slide_type": "slide"
    }
   },
   "outputs": [
    {
     "data": {
      "image/png": "[encoded data removed]",
      "text/plain": [
       "<Figure size 504x288 with 1 Axes>"
      ]
     },
     "metadata": {
      "needs_background": "light"
     },
     "output_type": "display_data"
    }
   ],
   "source": [
    "plt.figure(figsize=(7, 4))\n",
    "sns.distplot(YT, color='g', bins=100, hist_kws={'alpha': 0.4})\n",
    "warnings.filterwarnings('ignore')"
   ]
  },
  {
   "cell_type": "markdown",
   "metadata": {
    "slideshow": {
     "slide_type": "slide"
    }
   },
   "source": [
    "#### Now we can run our first iteration using the transformed dependent variable\n",
    "\n",
    "##### First , we need to split into train, validation and test."
   ]
  },
  {
   "cell_type": "code",
   "execution_count": 13,
   "metadata": {
    "slideshow": {
     "slide_type": "slide"
    }
   },
   "outputs": [],
   "source": [
    "# Split the data into 3 sets - train, validation and test\n",
    "# Here the data is cross section , so we can do out of sample validation\n",
    "# We will split in the ration 72-18-10 %\n",
    "import sklearn\n",
    "from sklearn.model_selection import train_test_split\n",
    "\n",
    "nrow = len(data1)\n",
    "X_train, X_val = sklearn.model_selection.train_test_split(data1.iloc[:,:-1],test_size=int(nrow*0.1),random_state=1)\n",
    "X_train, X_test = sklearn.model_selection.train_test_split(X_train,test_size=int(nrow*0.2),random_state=1)\n",
    "\n",
    "Y_train, Y_val = sklearn.model_selection.train_test_split(YT,test_size=int(nrow*0.1),random_state=1)\n",
    "Y_train, Y_test = sklearn.model_selection.train_test_split(Y_train,test_size=int(nrow*0.2),random_state=1)"
   ]
  },
  {
   "cell_type": "markdown",
   "metadata": {
    "slideshow": {
     "slide_type": "slide"
    }
   },
   "source": [
    "#### Q5 : Write atleast 5 points of the below output interpretation"
   ]
  },
  {
   "cell_type": "code",
   "execution_count": 14,
   "metadata": {
    "slideshow": {
     "slide_type": "slide"
    }
   },
   "outputs": [
    {
     "name": "stdout",
     "output_type": "stream",
     "text": [
      "                            OLS Regression Results                            \n",
      "==============================================================================\n",
      "Dep. Variable:                      y   R-squared:                       0.508\n",
      "Model:                            OLS   Adj. R-squared:                  0.496\n",
      "Method:                 Least Squares   F-statistic:                     44.50\n",
      "Date:                Fri, 30 Sep 2022   Prob (F-statistic):           5.33e-43\n",
      "Time:                        14:19:15   Log-Likelihood:                -658.43\n",
      "No. Observations:                 310   AIC:                             1333.\n",
      "Df Residuals:                     302   BIC:                             1363.\n",
      "Df Model:                           7                                         \n",
      "Covariance Type:            nonrobust                                         \n",
      "==============================================================================\n",
      "                 coef    std err          t      P>|t|      [0.025      0.975]\n",
      "------------------------------------------------------------------------------\n",
      "const         12.7204      0.118    107.542      0.000      12.488      12.953\n",
      "bmi           21.0329      3.198      6.576      0.000      14.739      27.327\n",
      "bp             6.0349      2.952      2.044      0.042       0.226      11.844\n",
      "s1            -6.2856      6.168     -1.019      0.309     -18.423       5.852\n",
      "s3            -3.5006      7.976     -0.439      0.661     -19.196      12.195\n",
      "s4             3.7667      9.169      0.411      0.681     -14.276      21.809\n",
      "s5            24.5870      3.924      6.266      0.000      16.866      32.308\n",
      "s6             0.7006      3.215      0.218      0.828      -5.626       7.027\n",
      "==============================================================================\n",
      "Omnibus:                        2.831   Durbin-Watson:                   1.998\n",
      "Prob(Omnibus):                  0.243   Jarque-Bera (JB):                2.552\n",
      "Skew:                          -0.140   Prob(JB):                        0.279\n",
      "Kurtosis:                       2.654   Cond. No.                         112.\n",
      "==============================================================================\n",
      "\n",
      "Notes:\n",
      "[1] Standard Errors assume that the covariance matrix of the errors is correctly specified.\n"
     ]
    }
   ],
   "source": [
    "### Now we will run our first version of model\n",
    "\n",
    "import statsmodels.api as sm\n",
    "\n",
    "# OLS regression\n",
    "est = sm.OLS(Y_train, sm.add_constant(X_train)).fit()\n",
    "print(est.summary())\n",
    "\n",
    "# 5 Interpretations\n",
    "\n",
    "# 1. The coefficient corresponding to const is the intercept of the regression line, \n",
    "#    which indirectly represents the average value of the excluded variables and noise present in model.\n",
    "\n",
    "# 2. The NULL hypothesis of a regression is \"Dependent variable do not depend on that independent variable\".\n",
    "\n",
    "#    The t statistic value should be greater than 2 or less than -2 to reject the null hypothesis but the variables s1,s3,s6 are between -2 and 2.\n",
    "#    So the NULL hypothesis cannot be rejected for them which indicates that they are insignificant variables.\n",
    "\n",
    "\n",
    "# 3. Even the P values and confidence intervals of the variables s1,s3 and s6 suggest to reject the null hypothesis for these variables.\n",
    "\n",
    "# 4. The F-statistic score tells the whether the entire regression line is insignificant or not, instead of considering individual feature. \n",
    "#    Prob(F-statistic) is less than 0.05 which suggests to reject the NULL hypothesis.\n",
    "\n",
    "\n",
    "# 5. The Adjusted R-squared value is less than 0.5 which indicates \n",
    "#    that the Regression doesn't work well on the current set of variables which suggests that\n",
    "#    further data preprocessing or transformations needs to be done on the dataset."
   ]
  },
  {
   "cell_type": "markdown",
   "metadata": {
    "slideshow": {
     "slide_type": "slide"
    }
   },
   "source": [
    "#### Q6 : Check the MAPE of first iteration for both training and validation\n",
    "\n",
    "Refer the code used in the course material"
   ]
  },
  {
   "cell_type": "code",
   "execution_count": 15,
   "metadata": {
    "slideshow": {
     "slide_type": "slide"
    }
   },
   "outputs": [],
   "source": [
    "### Function to return the original data from transformed data\n",
    "\n",
    "def ori_from_bc(x,lmb):\n",
    "    return(pow(x*lmb+1,1/lmb))\n",
    "\n",
    "est = sm.OLS(Y_train, sm.add_constant(X_train)).fit()\n",
    "\n",
    "\n",
    "# Make predictions using the validation set\n",
    "Y_pred=est.predict(sm.add_constant(X_val))\n",
    "Y_pred1=est.predict(sm.add_constant(X_train))"
   ]
  },
  {
   "cell_type": "code",
   "execution_count": 16,
   "metadata": {
    "slideshow": {
     "slide_type": "slide"
    }
   },
   "outputs": [
    {
     "name": "stdout",
     "output_type": "stream",
     "text": [
      "Training MAPE is : 89.24581348452256%\n",
      "Validation MAPE is : 90.26383987306961%\n"
     ]
    }
   ],
   "source": [
    "# MAPE - Mean Absolute Percentage Error - It helps to check the error% we have in our prediction\n",
    "\n",
    "# check MAPE (on the validation set)\n",
    "\n",
    "def mape1(act,pred):\n",
    "    act, pred = np.array(act), np.array(pred)\n",
    "    return np.mean(np.abs((act - pred) / act)) * 100\n",
    "\n",
    "print(\"Training MAPE is : \" + str(mape1(ori_from_bc(Y_train,0.3384),Y_pred1)) + \"%\")\n",
    "print(\"Validation MAPE is : \" + str(mape1(ori_from_bc(Y_val,0.3384),Y_pred)) + \"%\")"
   ]
  },
  {
   "cell_type": "markdown",
   "metadata": {
    "slideshow": {
     "slide_type": "slide"
    }
   },
   "source": [
    "#### 2nd Iteration\n",
    "\n",
    "#### Q7 : Check VIF for multicollinearity , remove variables with high VIF and again check the MAPE"
   ]
  },
  {
   "cell_type": "code",
   "execution_count": 17,
   "metadata": {
    "slideshow": {
     "slide_type": "slide"
    }
   },
   "outputs": [
    {
     "name": "stdout",
     "output_type": "stream",
     "text": [
      "Index(['bmi', 'bp', 's1', 's3', 's4', 's5', 's6'], dtype='object')\n",
      "[1.6332021272067285, 1.3521574158152658, 5.73508109627361, 8.970089744422841, 11.4226518072152, 2.329062560827313, 1.441535166221635]\n"
     ]
    }
   ],
   "source": [
    "### VIF Check\n",
    "from statsmodels.stats.outliers_influence import variance_inflation_factor\n",
    "\n",
    "vif = [variance_inflation_factor(X_train.values, i)\n",
    "                          for i in range(len(X_train.columns))]\n",
    "print(X_train.columns)\n",
    "print(vif)"
   ]
  },
  {
   "cell_type": "code",
   "execution_count": 18,
   "metadata": {
    "slideshow": {
     "slide_type": "slide"
    }
   },
   "outputs": [],
   "source": [
    "### Remove var with high VIF one by one in while loop\n",
    "X_train2 = X_train\n",
    "while (max(vif) > 5):    \n",
    "    indx = vif.index(max(vif)) #Get the index of variable with highest VIF\n",
    "    X_train2 = X_train2.drop(X_train2.columns[indx],axis = 1)#Drop variable if the highest VIF is greater than 5\n",
    "    vif = [variance_inflation_factor(X_train2.values, i)\n",
    "                          for i in range(len(X_train2.columns))] #Run VIF again"
   ]
  },
  {
   "cell_type": "code",
   "execution_count": 19,
   "metadata": {
    "slideshow": {
     "slide_type": "slide"
    }
   },
   "outputs": [
    {
     "name": "stdout",
     "output_type": "stream",
     "text": [
      "Training MAPE is : 36.01500490239039%\n",
      "Validation MAPE is : 31.49694173093738%\n"
     ]
    }
   ],
   "source": [
    "# Check Mape\n",
    "X_val2 = X_val[X_train2.columns]\n",
    "\n",
    "# Train the model using the training sets\n",
    "est = sm.OLS(Y_train, sm.add_constant(X_train2)).fit()\n",
    "\n",
    "# Make predictions using the validation set\n",
    "Y_pred = ori_from_bc(est.predict(sm.add_constant(X_val2)),0.3384)\n",
    "Y_pred1 = ori_from_bc(est.predict(),0.3384)\n",
    "\n",
    "print(\"Training MAPE is : \" + str(mape1(ori_from_bc(Y_train,0.3384),Y_pred1)) + \"%\")\n",
    "print(\"Validation MAPE is : \" + str(mape1(ori_from_bc(Y_val,0.3384),Y_pred)) + \"%\")"
   ]
  },
  {
   "cell_type": "markdown",
   "metadata": {
    "slideshow": {
     "slide_type": "slide"
    }
   },
   "source": [
    "#### Q8 : Improve the Model accuracy\n",
    "#### Run a Significance Check\n",
    "#### Remove influential observation"
   ]
  },
  {
   "cell_type": "code",
   "execution_count": 20,
   "metadata": {
    "slideshow": {
     "slide_type": "slide"
    }
   },
   "outputs": [
    {
     "name": "stdout",
     "output_type": "stream",
     "text": [
      "                            OLS Regression Results                            \n",
      "==============================================================================\n",
      "Dep. Variable:                      y   R-squared:                       0.507\n",
      "Model:                            OLS   Adj. R-squared:                  0.498\n",
      "Method:                 Least Squares   F-statistic:                     52.04\n",
      "Date:                Fri, 30 Sep 2022   Prob (F-statistic):           7.68e-44\n",
      "Time:                        14:19:15   Log-Likelihood:                -658.52\n",
      "No. Observations:                 310   AIC:                             1331.\n",
      "Df Residuals:                     303   BIC:                             1357.\n",
      "Df Model:                           6                                         \n",
      "Covariance Type:            nonrobust                                         \n",
      "==============================================================================\n",
      "                 coef    std err          t      P>|t|      [0.025      0.975]\n",
      "------------------------------------------------------------------------------\n",
      "const         12.7124      0.117    109.116      0.000      12.483      12.942\n",
      "bmi           21.0032      3.193      6.578      0.000      14.720      27.287\n",
      "bp             5.9570      2.942      2.025      0.044       0.168      11.746\n",
      "s1            -4.1692      3.387     -1.231      0.219     -10.834       2.496\n",
      "s3            -6.4809      3.310     -1.958      0.051     -12.995       0.033\n",
      "s5            24.6335      3.917      6.290      0.000      16.926      32.341\n",
      "s6             0.7402      3.209      0.231      0.818      -5.575       7.055\n",
      "==============================================================================\n",
      "Omnibus:                        2.929   Durbin-Watson:                   2.000\n",
      "Prob(Omnibus):                  0.231   Jarque-Bera (JB):                2.652\n",
      "Skew:                          -0.147   Prob(JB):                        0.266\n",
      "Kurtosis:                       2.655   Cond. No.                         42.9\n",
      "==============================================================================\n",
      "\n",
      "Notes:\n",
      "[1] Standard Errors assume that the covariance matrix of the errors is correctly specified.\n"
     ]
    }
   ],
   "source": [
    "# OLS regression\n",
    "est = sm.OLS(Y_train, sm.add_constant(X_train2)).fit()\n",
    "print(est.summary())"
   ]
  },
  {
   "cell_type": "markdown",
   "metadata": {
    "slideshow": {
     "slide_type": "slide"
    }
   },
   "source": [
    "##### Influential observation using Cook's Distance \n",
    "You can set the cutoff using formula 4/(n-k-1) or manually increase/decrease cutoff value to improve accuracy."
   ]
  },
  {
   "cell_type": "code",
   "execution_count": 21,
   "metadata": {},
   "outputs": [
    {
     "data": {
      "text/plain": [
       "310"
      ]
     },
     "execution_count": 21,
     "metadata": {},
     "output_type": "execute_result"
    }
   ],
   "source": [
    "inf=est.get_influence()\n",
    "cd = inf.cooks_distance\n",
    "cd = list(cd[0])\n",
    "len(cd)"
   ]
  },
  {
   "cell_type": "code",
   "execution_count": 22,
   "metadata": {
    "slideshow": {
     "slide_type": "slide"
    }
   },
   "outputs": [
    {
     "data": {
      "text/plain": [
       "10"
      ]
     },
     "execution_count": 22,
     "metadata": {},
     "output_type": "execute_result"
    }
   ],
   "source": [
    "# Cook's Distance\n",
    "\n",
    "inf = est.get_influence()\n",
    "cd = inf.cooks_distance\n",
    "cd = list(cd[0])\n",
    "inf_cutoff = 4/(len(cd)-6-1)#4/(n-k-1)\n",
    "#inf_cutoff = \"Enter the cutoff value here\" # You can run iteration by manually setting the cutoff value\n",
    "\n",
    "out = [1 if x > inf_cutoff else 0 for x in cd]\n",
    "sum(out)"
   ]
  },
  {
   "cell_type": "code",
   "execution_count": 23,
   "metadata": {
    "slideshow": {
     "slide_type": "slide"
    }
   },
   "outputs": [
    {
     "data": {
      "text/plain": [
       "[<matplotlib.lines.Line2D at 0x7fd98196b970>]"
      ]
     },
     "execution_count": 23,
     "metadata": {},
     "output_type": "execute_result"
    },
    {
     "data": {
      "image/png": "[encoded data removed]",
      "text/plain": [
       "<Figure size 432x288 with 1 Axes>"
      ]
     },
     "metadata": {
      "needs_background": "light"
     },
     "output_type": "display_data"
    }
   ],
   "source": [
    "### get index of non outliers\n",
    "cook_index = np.where(np.array(out)==0)[0]\n",
    "\n",
    "plt.plot(cd, range(0,len(cd)), 'ro')\n",
    "plt.axis([0, 0.05, 0, len(cd)])\n",
    "plt.plot(np.repeat(inf_cutoff,len(cd)), range(0,len(cd)), '-')"
   ]
  },
  {
   "cell_type": "code",
   "execution_count": 24,
   "metadata": {
    "slideshow": {
     "slide_type": "slide"
    }
   },
   "outputs": [
    {
     "name": "stdout",
     "output_type": "stream",
     "text": [
      "Training MAPE is : 32.6256940068597%\n",
      "Validation MAPE is : 31.768146344718385%\n"
     ]
    }
   ],
   "source": [
    "# Check Mape\n",
    "\n",
    "# Train the model using the training sets\n",
    "est = sm.OLS(Y_train[cook_index], sm.add_constant(X_train2.iloc[cook_index,:])).fit()\n",
    "\n",
    "# Make predictions using the validation set\n",
    "Y_pred = ori_from_bc(est.predict(sm.add_constant(X_val2)),0.3384)\n",
    "Y_pred1 = ori_from_bc(est.predict(),0.3384)\n",
    "\n",
    "print(\"Training MAPE is : \" + str(mape1(ori_from_bc(Y_train[cook_index],0.3384),Y_pred1)) + \"%\")\n",
    "print(\"Validation MAPE is : \" + str(mape1(ori_from_bc(Y_val,0.3384),Y_pred)) + \"%\")"
   ]
  },
  {
   "cell_type": "code",
   "execution_count": 25,
   "metadata": {
    "slideshow": {
     "slide_type": "slide"
    }
   },
   "outputs": [
    {
     "name": "stdout",
     "output_type": "stream",
     "text": [
      "Test MAPE is : 42.18325499698871%\n"
     ]
    }
   ],
   "source": [
    "# check test accuracy\n",
    "X_test2 = X_test[X_train2.columns]\n",
    "# Train the model using the training sets\n",
    "est = sm.OLS(Y_train[cook_index], sm.add_constant(X_train2.iloc[cook_index,:])).fit()\n",
    "\n",
    "# Make predictions using the validation set\n",
    "Y_pred = ori_from_bc(est.predict(sm.add_constant(X_test2)),0.3384)\n",
    "\n",
    "print(\"Test MAPE is : \" + str(mape1(ori_from_bc(Y_test,0.3384),Y_pred)) + \"%\")"
   ]
  },
  {
   "cell_type": "code",
   "execution_count": 26,
   "metadata": {
    "slideshow": {
     "slide_type": "slide"
    }
   },
   "outputs": [
    {
     "name": "stdout",
     "output_type": "stream",
     "text": [
      "                            OLS Regression Results                            \n",
      "==============================================================================\n",
      "Dep. Variable:                      y   R-squared:                       0.571\n",
      "Model:                            OLS   Adj. R-squared:                  0.562\n",
      "Method:                 Least Squares   F-statistic:                     64.89\n",
      "Date:                Fri, 30 Sep 2022   Prob (F-statistic):           5.93e-51\n",
      "Time:                        14:19:15   Log-Likelihood:                -612.89\n",
      "No. Observations:                 300   AIC:                             1240.\n",
      "Df Residuals:                     293   BIC:                             1266.\n",
      "Df Model:                           6                                         \n",
      "Covariance Type:            nonrobust                                         \n",
      "==============================================================================\n",
      "                 coef    std err          t      P>|t|      [0.025      0.975]\n",
      "------------------------------------------------------------------------------\n",
      "const         12.8030      0.109    117.156      0.000      12.588      13.018\n",
      "bmi           21.5155      2.998      7.178      0.000      15.616      27.415\n",
      "bp             6.8416      2.798      2.445      0.015       1.335      12.348\n",
      "s1            -7.4154      3.242     -2.287      0.023     -13.797      -1.034\n",
      "s3            -6.3156      3.124     -2.022      0.044     -12.463      -0.168\n",
      "s5            27.1236      3.717      7.296      0.000      19.807      34.440\n",
      "s6             0.9205      2.988      0.308      0.758      -4.960       6.801\n",
      "==============================================================================\n",
      "Omnibus:                       10.604   Durbin-Watson:                   1.956\n",
      "Prob(Omnibus):                  0.005   Jarque-Bera (JB):                5.226\n",
      "Skew:                          -0.022   Prob(JB):                       0.0733\n",
      "Kurtosis:                       2.355   Cond. No.                         43.7\n",
      "==============================================================================\n",
      "\n",
      "Notes:\n",
      "[1] Standard Errors assume that the covariance matrix of the errors is correctly specified.\n"
     ]
    }
   ],
   "source": [
    "print(est.summary())"
   ]
  },
  {
   "cell_type": "code",
   "execution_count": 27,
   "metadata": {
    "slideshow": {
     "slide_type": "slide"
    }
   },
   "outputs": [
    {
     "data": {
      "image/png": "[encoded data removed]",
      "text/plain": [
       "<Figure size 504x288 with 1 Axes>"
      ]
     },
     "metadata": {
      "needs_background": "light"
     },
     "output_type": "display_data"
    }
   ],
   "source": [
    "# We can check the error distribution \n",
    "\n",
    "import matplotlib.ticker as ticker\n",
    "err = (Y_pred - ori_from_bc(Y_test,0.3384))/ori_from_bc(Y_test,0.3384)*100\n",
    "\n",
    "# Error distribution using histogram\n",
    "plt.figure(figsize=(7, 4))\n",
    "ax = sns.distplot(err, color='g', bins=100, hist_kws={'alpha': 0.4},hist=True)\n",
    "ax.xaxis.set_major_locator(ticker.MultipleLocator(50))\n",
    "plt.show()"
   ]
  },
  {
   "cell_type": "markdown",
   "metadata": {
    "slideshow": {
     "slide_type": "slide"
    }
   },
   "source": [
    "#### Q9 : Calculate how much percentage of test data are in error range of -30% to +30%"
   ]
  },
  {
   "cell_type": "code",
   "execution_count": 28,
   "metadata": {
    "slideshow": {
     "slide_type": "slide"
    }
   },
   "outputs": [
    {
     "data": {
      "text/plain": [
       "54.54545454545454"
      ]
     },
     "execution_count": 28,
     "metadata": {},
     "output_type": "execute_result"
    }
   ],
   "source": [
    "(len(err[(err>-30)&(err<30)])/len(err))*100"
   ]
  },
  {
   "cell_type": "markdown",
   "metadata": {
    "slideshow": {
     "slide_type": "slide"
    }
   },
   "source": [
    "#### Q10 : Improve the model accuracy (test and validation)\n",
    "\n",
    " - Exclude insignificant variables\n",
    " - Residual outlier treatment\n",
    " - variable transformation of independent variables"
   ]
  },
  {
   "cell_type": "code",
   "execution_count": 29,
   "metadata": {},
   "outputs": [],
   "source": [
    "df_train=X_train2\n",
    "df_val=X_val2\n",
    "df_test=X_test2\n",
    "df_train=df_train.drop(['s6'],axis=1)"
   ]
  },
  {
   "cell_type": "code",
   "execution_count": 30,
   "metadata": {},
   "outputs": [],
   "source": [
    "# df_train = df_train.apply(out_impute)"
   ]
  },
  {
   "cell_type": "code",
   "execution_count": 31,
   "metadata": {},
   "outputs": [],
   "source": [
    "# while (max(vif) > 5):    \n",
    "#     indx = vif.index(max(vif)) #Get the index of variable with highest VIF\n",
    "#     df_train = df_train.drop(df_train.columns[indx],axis = 1)#Drop variable if the highest VIF is greater than 5\n",
    "#     vif = [variance_inflation_factor(df_train.values, i)\n",
    "#                           for i in range(len(df_train.columns))] "
   ]
  },
  {
   "cell_type": "code",
   "execution_count": 32,
   "metadata": {},
   "outputs": [
    {
     "data": {
      "text/plain": [
       "13"
      ]
     },
     "execution_count": 32,
     "metadata": {},
     "output_type": "execute_result"
    }
   ],
   "source": [
    "est = sm.OLS(Y_train, sm.add_constant(df_train)).fit()\n",
    "\n",
    "inf = est.get_influence()\n",
    "cd = inf.cooks_distance\n",
    "cd = list(cd[0])\n",
    "inf_cutoff = 4/(len(cd)-5-1)#4/(n-k-1)\n",
    "#inf_cutoff = \"Enter the cutoff value here\" # You can run iteration by manually setting the cutoff value\n",
    "\n",
    "out = [1 if x > inf_cutoff else 0 for x in cd]\n",
    "sum(out)"
   ]
  },
  {
   "cell_type": "code",
   "execution_count": 33,
   "metadata": {
    "slideshow": {
     "slide_type": "-"
    }
   },
   "outputs": [
    {
     "data": {
      "text/html": [
       "<table class=\"simpletable\">\n",
       "<caption>OLS Regression Results</caption>\n",
       "<tr>\n",
       "  <th>Dep. Variable:</th>            <td>y</td>        <th>  R-squared:         </th> <td>   0.570</td>\n",
       "</tr>\n",
       "<tr>\n",
       "  <th>Model:</th>                   <td>OLS</td>       <th>  Adj. R-squared:    </th> <td>   0.563</td>\n",
       "</tr>\n",
       "<tr>\n",
       "  <th>Method:</th>             <td>Least Squares</td>  <th>  F-statistic:       </th> <td>   78.09</td>\n",
       "</tr>\n",
       "<tr>\n",
       "  <th>Date:</th>             <td>Fri, 30 Sep 2022</td> <th>  Prob (F-statistic):</th> <td>6.67e-52</td>\n",
       "</tr>\n",
       "<tr>\n",
       "  <th>Time:</th>                 <td>14:19:15</td>     <th>  Log-Likelihood:    </th> <td> -612.94</td>\n",
       "</tr>\n",
       "<tr>\n",
       "  <th>No. Observations:</th>      <td>   300</td>      <th>  AIC:               </th> <td>   1238.</td>\n",
       "</tr>\n",
       "<tr>\n",
       "  <th>Df Residuals:</th>          <td>   294</td>      <th>  BIC:               </th> <td>   1260.</td>\n",
       "</tr>\n",
       "<tr>\n",
       "  <th>Df Model:</th>              <td>     5</td>      <th>                     </th>     <td> </td>   \n",
       "</tr>\n",
       "<tr>\n",
       "  <th>Covariance Type:</th>      <td>nonrobust</td>    <th>                     </th>     <td> </td>   \n",
       "</tr>\n",
       "</table>\n",
       "<table class=\"simpletable\">\n",
       "<tr>\n",
       "    <td></td>       <th>coef</th>     <th>std err</th>      <th>t</th>      <th>P>|t|</th>  <th>[0.025</th>    <th>0.975]</th>  \n",
       "</tr>\n",
       "<tr>\n",
       "  <th>const</th> <td>   12.8041</td> <td>    0.109</td> <td>  117.403</td> <td> 0.000</td> <td>   12.589</td> <td>   13.019</td>\n",
       "</tr>\n",
       "<tr>\n",
       "  <th>bmi</th>   <td>   21.6513</td> <td>    2.960</td> <td>    7.314</td> <td> 0.000</td> <td>   15.825</td> <td>   27.477</td>\n",
       "</tr>\n",
       "<tr>\n",
       "  <th>bp</th>    <td>    7.0214</td> <td>    2.732</td> <td>    2.570</td> <td> 0.011</td> <td>    1.644</td> <td>   12.399</td>\n",
       "</tr>\n",
       "<tr>\n",
       "  <th>s1</th>    <td>   -7.2655</td> <td>    3.201</td> <td>   -2.270</td> <td> 0.024</td> <td>  -13.565</td> <td>   -0.967</td>\n",
       "</tr>\n",
       "<tr>\n",
       "  <th>s3</th>    <td>   -6.4359</td> <td>    3.094</td> <td>   -2.080</td> <td> 0.038</td> <td>  -12.526</td> <td>   -0.346</td>\n",
       "</tr>\n",
       "<tr>\n",
       "  <th>s5</th>    <td>   27.2583</td> <td>    3.686</td> <td>    7.395</td> <td> 0.000</td> <td>   20.004</td> <td>   34.513</td>\n",
       "</tr>\n",
       "</table>\n",
       "<table class=\"simpletable\">\n",
       "<tr>\n",
       "  <th>Omnibus:</th>       <td>10.561</td> <th>  Durbin-Watson:     </th> <td>   1.958</td>\n",
       "</tr>\n",
       "<tr>\n",
       "  <th>Prob(Omnibus):</th> <td> 0.005</td> <th>  Jarque-Bera (JB):  </th> <td>   5.215</td>\n",
       "</tr>\n",
       "<tr>\n",
       "  <th>Skew:</th>          <td>-0.023</td> <th>  Prob(JB):          </th> <td>  0.0737</td>\n",
       "</tr>\n",
       "<tr>\n",
       "  <th>Kurtosis:</th>      <td> 2.356</td> <th>  Cond. No.          </th> <td>    43.6</td>\n",
       "</tr>\n",
       "</table><br/><br/>Notes:<br/>[1] Standard Errors assume that the covariance matrix of the errors is correctly specified."
      ],
      "text/plain": [
       "<class 'statsmodels.iolib.summary.Summary'>\n",
       "\"\"\"\n",
       "                            OLS Regression Results                            \n",
       "==============================================================================\n",
       "Dep. Variable:                      y   R-squared:                       0.570\n",
       "Model:                            OLS   Adj. R-squared:                  0.563\n",
       "Method:                 Least Squares   F-statistic:                     78.09\n",
       "Date:                Fri, 30 Sep 2022   Prob (F-statistic):           6.67e-52\n",
       "Time:                        14:19:15   Log-Likelihood:                -612.94\n",
       "No. Observations:                 300   AIC:                             1238.\n",
       "Df Residuals:                     294   BIC:                             1260.\n",
       "Df Model:                           5                                         \n",
       "Covariance Type:            nonrobust                                         \n",
       "==============================================================================\n",
       "                 coef    std err          t      P>|t|      [0.025      0.975]\n",
       "------------------------------------------------------------------------------\n",
       "const         12.8041      0.109    117.403      0.000      12.589      13.019\n",
       "bmi           21.6513      2.960      7.314      0.000      15.825      27.477\n",
       "bp             7.0214      2.732      2.570      0.011       1.644      12.399\n",
       "s1            -7.2655      3.201     -2.270      0.024     -13.565      -0.967\n",
       "s3            -6.4359      3.094     -2.080      0.038     -12.526      -0.346\n",
       "s5            27.2583      3.686      7.395      0.000      20.004      34.513\n",
       "==============================================================================\n",
       "Omnibus:                       10.561   Durbin-Watson:                   1.958\n",
       "Prob(Omnibus):                  0.005   Jarque-Bera (JB):                5.215\n",
       "Skew:                          -0.023   Prob(JB):                       0.0737\n",
       "Kurtosis:                       2.356   Cond. No.                         43.6\n",
       "==============================================================================\n",
       "\n",
       "Notes:\n",
       "[1] Standard Errors assume that the covariance matrix of the errors is correctly specified.\n",
       "\"\"\""
      ]
     },
     "execution_count": 33,
     "metadata": {},
     "output_type": "execute_result"
    }
   ],
   "source": [
    "est = sm.OLS(Y_train[cook_index], sm.add_constant(df_train.iloc[cook_index,:])).fit()\n",
    "est.summary()"
   ]
  },
  {
   "cell_type": "code",
   "execution_count": 34,
   "metadata": {},
   "outputs": [],
   "source": [
    "df_val=df_val.drop(['s6'],axis=1)\n",
    "df_test=df_test.drop(['s6'],axis=1)"
   ]
  },
  {
   "cell_type": "code",
   "execution_count": 35,
   "metadata": {},
   "outputs": [
    {
     "data": {
      "text/html": [
       "<div>\n",
       "<style scoped>\n",
       "    .dataframe tbody tr th:only-of-type {\n",
       "        vertical-align: middle;\n",
       "    }\n",
       "\n",
       "    .dataframe tbody tr th {\n",
       "        vertical-align: top;\n",
       "    }\n",
       "\n",
       "    .dataframe thead th {\n",
       "        text-align: right;\n",
       "    }\n",
       "</style>\n",
       "<table border=\"1\" class=\"dataframe\">\n",
       "  <thead>\n",
       "    <tr style=\"text-align: right;\">\n",
       "      <th></th>\n",
       "      <th>bmi</th>\n",
       "      <th>bp</th>\n",
       "      <th>s1</th>\n",
       "      <th>s3</th>\n",
       "      <th>s5</th>\n",
       "    </tr>\n",
       "  </thead>\n",
       "  <tbody>\n",
       "    <tr>\n",
       "      <th>count</th>\n",
       "      <td>310.000000</td>\n",
       "      <td>310.000000</td>\n",
       "      <td>310.000000</td>\n",
       "      <td>310.000000</td>\n",
       "      <td>310.000000</td>\n",
       "    </tr>\n",
       "    <tr>\n",
       "      <th>mean</th>\n",
       "      <td>-0.001564</td>\n",
       "      <td>-0.000353</td>\n",
       "      <td>-0.000229</td>\n",
       "      <td>-0.000214</td>\n",
       "      <td>-0.000518</td>\n",
       "    </tr>\n",
       "    <tr>\n",
       "      <th>std</th>\n",
       "      <td>0.046633</td>\n",
       "      <td>0.045953</td>\n",
       "      <td>0.045735</td>\n",
       "      <td>0.044349</td>\n",
       "      <td>0.045371</td>\n",
       "    </tr>\n",
       "    <tr>\n",
       "      <th>min</th>\n",
       "      <td>-0.089197</td>\n",
       "      <td>-0.095130</td>\n",
       "      <td>-0.095130</td>\n",
       "      <td>-0.095130</td>\n",
       "      <td>-0.095130</td>\n",
       "    </tr>\n",
       "    <tr>\n",
       "      <th>25%</th>\n",
       "      <td>-0.038271</td>\n",
       "      <td>-0.036656</td>\n",
       "      <td>-0.034248</td>\n",
       "      <td>-0.032356</td>\n",
       "      <td>-0.033249</td>\n",
       "    </tr>\n",
       "    <tr>\n",
       "      <th>50%</th>\n",
       "      <td>-0.007284</td>\n",
       "      <td>-0.005671</td>\n",
       "      <td>-0.004321</td>\n",
       "      <td>-0.006584</td>\n",
       "      <td>-0.004683</td>\n",
       "    </tr>\n",
       "    <tr>\n",
       "      <th>75%</th>\n",
       "      <td>0.030440</td>\n",
       "      <td>0.032201</td>\n",
       "      <td>0.031110</td>\n",
       "      <td>0.030232</td>\n",
       "      <td>0.032894</td>\n",
       "    </tr>\n",
       "    <tr>\n",
       "      <th>max</th>\n",
       "      <td>0.095130</td>\n",
       "      <td>0.095130</td>\n",
       "      <td>0.095130</td>\n",
       "      <td>0.095130</td>\n",
       "      <td>0.095130</td>\n",
       "    </tr>\n",
       "  </tbody>\n",
       "</table>\n",
       "</div>"
      ],
      "text/plain": [
       "              bmi          bp          s1          s3          s5\n",
       "count  310.000000  310.000000  310.000000  310.000000  310.000000\n",
       "mean    -0.001564   -0.000353   -0.000229   -0.000214   -0.000518\n",
       "std      0.046633    0.045953    0.045735    0.044349    0.045371\n",
       "min     -0.089197   -0.095130   -0.095130   -0.095130   -0.095130\n",
       "25%     -0.038271   -0.036656   -0.034248   -0.032356   -0.033249\n",
       "50%     -0.007284   -0.005671   -0.004321   -0.006584   -0.004683\n",
       "75%      0.030440    0.032201    0.031110    0.030232    0.032894\n",
       "max      0.095130    0.095130    0.095130    0.095130    0.095130"
      ]
     },
     "execution_count": 35,
     "metadata": {},
     "output_type": "execute_result"
    }
   ],
   "source": [
    "df_train.describe()"
   ]
  },
  {
   "cell_type": "code",
   "execution_count": 36,
   "metadata": {},
   "outputs": [
    {
     "name": "stdout",
     "output_type": "stream",
     "text": [
      "Validation MAPE is : 31.86153009041588%\n",
      "Test MAPE is : 42.15022127039125%\n"
     ]
    }
   ],
   "source": [
    "# Make predictions using the validation set\n",
    "Y_pred_val = ori_from_bc(est.predict(sm.add_constant(df_val)),0.3384)\n",
    "\n",
    "print(\"Validation MAPE is : \" + str(mape1(ori_from_bc(Y_val,0.3384),Y_pred_val)) + \"%\")\n",
    "\n",
    "Y_pred_test = ori_from_bc(est.predict(sm.add_constant(df_test)),0.3384)\n",
    "\n",
    "print(\"Test MAPE is : \" + str(mape1(ori_from_bc(Y_test,0.3384),Y_pred_test)) + \"%\")"
   ]
  },
  {
   "cell_type": "code",
   "execution_count": 37,
   "metadata": {},
   "outputs": [
    {
     "data": {
      "text/plain": [
       "array([[<AxesSubplot:title={'center':'bmi'}>,\n",
       "        <AxesSubplot:title={'center':'bp'}>],\n",
       "       [<AxesSubplot:title={'center':'s1'}>,\n",
       "        <AxesSubplot:title={'center':'s3'}>],\n",
       "       [<AxesSubplot:title={'center':'s5'}>, <AxesSubplot:>]],\n",
       "      dtype=object)"
      ]
     },
     "execution_count": 37,
     "metadata": {},
     "output_type": "execute_result"
    },
    {
     "data": {
      "image/png": "[encoded data removed]",
      "text/plain": [
       "<Figure size 432x288 with 6 Axes>"
      ]
     },
     "metadata": {
      "needs_background": "light"
     },
     "output_type": "display_data"
    }
   ],
   "source": [
    "df_train.hist()"
   ]
  },
  {
   "cell_type": "code",
   "execution_count": 38,
   "metadata": {},
   "outputs": [],
   "source": [
    "# Applying Yeo Johnson transformation to the df_train dataset\n",
    "#from sklearn.preprocessing import power_transform\n",
    "#df_train['bmi']=power_transform(df_train['bmi'], method='yeo-johnson')"
   ]
  },
  {
   "cell_type": "code",
   "execution_count": 39,
   "metadata": {},
   "outputs": [],
   "source": [
    "XT=stats.yeojohnson(df_train['s1'])\n",
    "df_train['s1']=XT[0]\n",
    "\n",
    "XT=stats.yeojohnson(df_train['s3'])\n",
    "df_train['s3']=XT[0]"
   ]
  },
  {
   "cell_type": "code",
   "execution_count": 40,
   "metadata": {},
   "outputs": [
    {
     "data": {
      "text/html": [
       "<table class=\"simpletable\">\n",
       "<caption>OLS Regression Results</caption>\n",
       "<tr>\n",
       "  <th>Dep. Variable:</th>            <td>y</td>        <th>  R-squared:         </th> <td>   0.571</td>\n",
       "</tr>\n",
       "<tr>\n",
       "  <th>Model:</th>                   <td>OLS</td>       <th>  Adj. R-squared:    </th> <td>   0.563</td>\n",
       "</tr>\n",
       "<tr>\n",
       "  <th>Method:</th>             <td>Least Squares</td>  <th>  F-statistic:       </th> <td>   78.14</td>\n",
       "</tr>\n",
       "<tr>\n",
       "  <th>Date:</th>             <td>Fri, 30 Sep 2022</td> <th>  Prob (F-statistic):</th> <td>6.28e-52</td>\n",
       "</tr>\n",
       "<tr>\n",
       "  <th>Time:</th>                 <td>14:19:16</td>     <th>  Log-Likelihood:    </th> <td> -612.88</td>\n",
       "</tr>\n",
       "<tr>\n",
       "  <th>No. Observations:</th>      <td>   300</td>      <th>  AIC:               </th> <td>   1238.</td>\n",
       "</tr>\n",
       "<tr>\n",
       "  <th>Df Residuals:</th>          <td>   294</td>      <th>  BIC:               </th> <td>   1260.</td>\n",
       "</tr>\n",
       "<tr>\n",
       "  <th>Df Model:</th>              <td>     5</td>      <th>                     </th>     <td> </td>   \n",
       "</tr>\n",
       "<tr>\n",
       "  <th>Covariance Type:</th>      <td>nonrobust</td>    <th>                     </th>     <td> </td>   \n",
       "</tr>\n",
       "</table>\n",
       "<table class=\"simpletable\">\n",
       "<tr>\n",
       "    <td></td>       <th>coef</th>     <th>std err</th>      <th>t</th>      <th>P>|t|</th>  <th>[0.025</th>    <th>0.975]</th>  \n",
       "</tr>\n",
       "<tr>\n",
       "  <th>const</th> <td>   12.7632</td> <td>    0.110</td> <td>  116.362</td> <td> 0.000</td> <td>   12.547</td> <td>   12.979</td>\n",
       "</tr>\n",
       "<tr>\n",
       "  <th>bmi</th>   <td>   21.6638</td> <td>    2.961</td> <td>    7.317</td> <td> 0.000</td> <td>   15.837</td> <td>   27.491</td>\n",
       "</tr>\n",
       "<tr>\n",
       "  <th>bp</th>    <td>    7.0501</td> <td>    2.732</td> <td>    2.580</td> <td> 0.010</td> <td>    1.673</td> <td>   12.428</td>\n",
       "</tr>\n",
       "<tr>\n",
       "  <th>s1</th>    <td>   -7.1414</td> <td>    3.225</td> <td>   -2.214</td> <td> 0.028</td> <td>  -13.488</td> <td>   -0.794</td>\n",
       "</tr>\n",
       "<tr>\n",
       "  <th>s3</th>    <td>   -6.7297</td> <td>    3.159</td> <td>   -2.130</td> <td> 0.034</td> <td>  -12.947</td> <td>   -0.512</td>\n",
       "</tr>\n",
       "<tr>\n",
       "  <th>s5</th>    <td>   27.0137</td> <td>    3.688</td> <td>    7.324</td> <td> 0.000</td> <td>   19.755</td> <td>   34.273</td>\n",
       "</tr>\n",
       "</table>\n",
       "<table class=\"simpletable\">\n",
       "<tr>\n",
       "  <th>Omnibus:</th>       <td>10.937</td> <th>  Durbin-Watson:     </th> <td>   1.956</td>\n",
       "</tr>\n",
       "<tr>\n",
       "  <th>Prob(Omnibus):</th> <td> 0.004</td> <th>  Jarque-Bera (JB):  </th> <td>   5.319</td>\n",
       "</tr>\n",
       "<tr>\n",
       "  <th>Skew:</th>          <td>-0.015</td> <th>  Prob(JB):          </th> <td>  0.0700</td>\n",
       "</tr>\n",
       "<tr>\n",
       "  <th>Kurtosis:</th>      <td> 2.348</td> <th>  Cond. No.          </th> <td>    44.0</td>\n",
       "</tr>\n",
       "</table><br/><br/>Notes:<br/>[1] Standard Errors assume that the covariance matrix of the errors is correctly specified."
      ],
      "text/plain": [
       "<class 'statsmodels.iolib.summary.Summary'>\n",
       "\"\"\"\n",
       "                            OLS Regression Results                            \n",
       "==============================================================================\n",
       "Dep. Variable:                      y   R-squared:                       0.571\n",
       "Model:                            OLS   Adj. R-squared:                  0.563\n",
       "Method:                 Least Squares   F-statistic:                     78.14\n",
       "Date:                Fri, 30 Sep 2022   Prob (F-statistic):           6.28e-52\n",
       "Time:                        14:19:16   Log-Likelihood:                -612.88\n",
       "No. Observations:                 300   AIC:                             1238.\n",
       "Df Residuals:                     294   BIC:                             1260.\n",
       "Df Model:                           5                                         \n",
       "Covariance Type:            nonrobust                                         \n",
       "==============================================================================\n",
       "                 coef    std err          t      P>|t|      [0.025      0.975]\n",
       "------------------------------------------------------------------------------\n",
       "const         12.7632      0.110    116.362      0.000      12.547      12.979\n",
       "bmi           21.6638      2.961      7.317      0.000      15.837      27.491\n",
       "bp             7.0501      2.732      2.580      0.010       1.673      12.428\n",
       "s1            -7.1414      3.225     -2.214      0.028     -13.488      -0.794\n",
       "s3            -6.7297      3.159     -2.130      0.034     -12.947      -0.512\n",
       "s5            27.0137      3.688      7.324      0.000      19.755      34.273\n",
       "==============================================================================\n",
       "Omnibus:                       10.937   Durbin-Watson:                   1.956\n",
       "Prob(Omnibus):                  0.004   Jarque-Bera (JB):                5.319\n",
       "Skew:                          -0.015   Prob(JB):                       0.0700\n",
       "Kurtosis:                       2.348   Cond. No.                         44.0\n",
       "==============================================================================\n",
       "\n",
       "Notes:\n",
       "[1] Standard Errors assume that the covariance matrix of the errors is correctly specified.\n",
       "\"\"\""
      ]
     },
     "execution_count": 40,
     "metadata": {},
     "output_type": "execute_result"
    }
   ],
   "source": [
    "est = sm.OLS(Y_train[cook_index], sm.add_constant(df_train.iloc[cook_index,:])).fit()\n",
    "est.summary()"
   ]
  },
  {
   "cell_type": "code",
   "execution_count": 41,
   "metadata": {},
   "outputs": [
    {
     "name": "stdout",
     "output_type": "stream",
     "text": [
      "Validation MAPE is : 31.62191816270986%\n",
      "Test MAPE is : 41.89582290154288%\n"
     ]
    }
   ],
   "source": [
    "Y_pred_val = ori_from_bc(est.predict(sm.add_constant(df_val)),0.3384)\n",
    "\n",
    "print(\"Validation MAPE is : \" + str(mape1(ori_from_bc(Y_val,0.3384),Y_pred_val)) + \"%\")\n",
    "\n",
    "Y_pred_test = ori_from_bc(est.predict(sm.add_constant(df_test)),0.3384)\n",
    "\n",
    "print(\"Test MAPE is : \" + str(mape1(ori_from_bc(Y_test,0.3384),Y_pred_test)) + \"%\")"
   ]
  },
  {
   "cell_type": "code",
   "execution_count": 42,
   "metadata": {},
   "outputs": [
    {
     "data": {
      "text/plain": [
       "array([[<AxesSubplot:title={'center':'bmi'}>,\n",
       "        <AxesSubplot:title={'center':'bp'}>],\n",
       "       [<AxesSubplot:title={'center':'s1'}>,\n",
       "        <AxesSubplot:title={'center':'s3'}>],\n",
       "       [<AxesSubplot:title={'center':'s5'}>, <AxesSubplot:>]],\n",
       "      dtype=object)"
      ]
     },
     "execution_count": 42,
     "metadata": {},
     "output_type": "execute_result"
    },
    {
     "data": {
      "image/png": "[encoded data removed]",
      "text/plain": [
       "<Figure size 432x288 with 6 Axes>"
      ]
     },
     "metadata": {
      "needs_background": "light"
     },
     "output_type": "display_data"
    }
   ],
   "source": [
    "df_train.hist()"
   ]
  },
  {
   "cell_type": "code",
   "execution_count": null,
   "metadata": {},
   "outputs": [],
   "source": []
  }
 ],
 "metadata": {
  "anaconda-cloud": {},
  "celltoolbar": "Slideshow",
  "kernelspec": {
   "display_name": "Python 3 (ipykernel)",
   "language": "python",
   "name": "python3"
  },
  "language_info": {
   "codemirror_mode": {
    "name": "ipython",
    "version": 3
   },
   "file_extension": ".py",
   "mimetype": "text/x-python",
   "name": "python",
   "nbconvert_exporter": "python",
   "pygments_lexer": "ipython3",
   "version": "3.10.12"
  },
  "nbpresent": {
   "slides": {
    "0f799cea-3674-494e-995c-524b61e3ed0e": {
     "id": "0f799cea-3674-494e-995c-524b61e3ed0e",
     "prev": "93eca2cd-5e40-4700-b434-664c06f1f785",
     "regions": {
      "c84478a9-3076-4688-9082-12c7bc3e1857": {
       "attrs": {
        "height": 0.8,
        "width": 0.8,
        "x": 0.1,
        "y": 0.1
       },
       "content": {
        "cell": "5da018cd-204d-4717-a37f-0b6bce484eb3",
        "part": "whole"
       },
       "id": "c84478a9-3076-4688-9082-12c7bc3e1857"
      }
     }
    },
    "25423d82-6b2d-40ba-b1cc-4fbf959c528c": {
     "id": "25423d82-6b2d-40ba-b1cc-4fbf959c528c",
     "prev": "326c1a7a-2650-4a8e-8bda-1c19b4cee730",
     "regions": {
      "f7d21472-79c9-4f22-bcd9-ef8695694fbb": {
       "attrs": {
        "height": 0.8,
        "width": 0.8,
        "x": 0.1,
        "y": 0.1
       },
       "content": {
        "cell": "f930b104-6fb2-49b3-ae1f-b0a6309591a9",
        "part": "whole"
       },
       "id": "f7d21472-79c9-4f22-bcd9-ef8695694fbb"
      }
     }
    },
    "326c1a7a-2650-4a8e-8bda-1c19b4cee730": {
     "id": "326c1a7a-2650-4a8e-8bda-1c19b4cee730",
     "prev": "9c239f2e-e4f9-494e-b5f2-707b08414b3f",
     "regions": {
      "4e602ec9-2939-4ba7-8bc6-8b6a3de4dfa0": {
       "attrs": {
        "height": 0.8,
        "width": 0.8,
        "x": 0.1,
        "y": 0.1
       },
       "content": {
        "cell": "78a94ae8-a338-4c0f-b760-58cd7a5ee79a",
        "part": "whole"
       },
       "id": "4e602ec9-2939-4ba7-8bc6-8b6a3de4dfa0"
      }
     }
    },
    "4f8459a9-69ef-4bf2-ae6a-973a9e99f50d": {
     "id": "4f8459a9-69ef-4bf2-ae6a-973a9e99f50d",
     "prev": "0f799cea-3674-494e-995c-524b61e3ed0e",
     "regions": {
      "97492dd8-d47e-409c-acc7-dd581b234525": {
       "attrs": {
        "height": 0.8,
        "width": 0.8,
        "x": 0.1,
        "y": 0.1
       },
       "content": {
        "cell": "073f2904-2232-401d-bcd3-4d0c81531128",
        "part": "whole"
       },
       "id": "97492dd8-d47e-409c-acc7-dd581b234525"
      }
     }
    },
    "93eca2cd-5e40-4700-b434-664c06f1f785": {
     "id": "93eca2cd-5e40-4700-b434-664c06f1f785",
     "prev": "25423d82-6b2d-40ba-b1cc-4fbf959c528c",
     "regions": {
      "1c7c123b-5544-469f-9ac1-6b81feb99f23": {
       "attrs": {
        "height": 0.8,
        "width": 0.8,
        "x": 0.1,
        "y": 0.1
       },
       "content": {
        "cell": "dc70cb7d-113a-4aa5-bf74-44fa251ec458",
        "part": "whole"
       },
       "id": "1c7c123b-5544-469f-9ac1-6b81feb99f23"
      }
     }
    },
    "9a2b0b10-b366-4660-8879-63a3b68be2ec": {
     "id": "9a2b0b10-b366-4660-8879-63a3b68be2ec",
     "prev": "4f8459a9-69ef-4bf2-ae6a-973a9e99f50d",
     "regions": {
      "3e1ef5a0-3b25-47f7-9f2f-ab49aed47990": {
       "attrs": {
        "height": 0.8,
        "width": 0.8,
        "x": 0.1,
        "y": 0.1
       },
       "content": {
        "cell": "8c1dcf3f-46ce-4e78-9ba9-53e9ab5f8558",
        "part": "whole"
       },
       "id": "3e1ef5a0-3b25-47f7-9f2f-ab49aed47990"
      }
     }
    },
    "9c239f2e-e4f9-494e-b5f2-707b08414b3f": {
     "id": "9c239f2e-e4f9-494e-b5f2-707b08414b3f",
     "prev": "efba9e70-d9d6-4abd-a8b0-91942a95d598",
     "regions": {
      "da62f607-c9be-4ffb-8eb5-e30779c14fb9": {
       "attrs": {
        "height": 0.8,
        "width": 0.8,
        "x": 0.1,
        "y": 0.1
       },
       "content": {
        "cell": "57384398-aebb-4d82-8dcc-6bf59b7afb41",
        "part": "whole"
       },
       "id": "da62f607-c9be-4ffb-8eb5-e30779c14fb9"
      }
     }
    },
    "a0027586-f39c-4adf-a6f9-3db8ee91fe42": {
     "id": "a0027586-f39c-4adf-a6f9-3db8ee91fe42",
     "prev": "9a2b0b10-b366-4660-8879-63a3b68be2ec",
     "regions": {
      "9b27ce12-3e04-445f-8400-ec2faf3d4b2d": {
       "attrs": {
        "height": 0.8,
        "width": 0.8,
        "x": 0.1,
        "y": 0.1
       },
       "content": {
        "cell": "97fd075f-e9e8-47b2-ac3b-fbbafb5ff08a",
        "part": "whole"
       },
       "id": "9b27ce12-3e04-445f-8400-ec2faf3d4b2d"
      }
     }
    },
    "efba9e70-d9d6-4abd-a8b0-91942a95d598": {
     "id": "efba9e70-d9d6-4abd-a8b0-91942a95d598",
     "layout": "grid",
     "prev": null,
     "regions": {
      "adebcbf4-7d79-4a94-bf2d-4a22c9273049": {
       "attrs": {
        "height": 1,
        "pad": 0.01,
        "treemap:weight": 1,
        "width": 1,
        "x": 0,
        "y": 0
       },
       "content": {
        "cell": "311877bb-4a9b-4699-9365-a0ad440d0615",
        "part": "whole"
       },
       "id": "adebcbf4-7d79-4a94-bf2d-4a22c9273049",
       "y": 0.05
      }
     },
     "theme": "92a2e750-7439-46a3-b0b3-441c486e485c"
    }
   },
   "themes": {
    "default": "92a2e750-7439-46a3-b0b3-441c486e485c",
    "theme": {}
   }
  }
 },
 "nbformat": 4,
 "nbformat_minor": 4
}
